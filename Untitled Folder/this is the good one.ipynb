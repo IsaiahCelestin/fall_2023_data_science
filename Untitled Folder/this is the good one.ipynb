{
 "cells": [
  {
   "cell_type": "markdown",
   "id": "84f03cc0",
   "metadata": {},
   "source": [
    "print(\"Hello World!\")"
   ]
  },
  {
   "cell_type": "markdown",
   "id": "e7dd9750",
   "metadata": {},
   "source": [
    "print(\"hola\")"
   ]
  },
  {
   "cell_type": "markdown",
   "id": "3dae4f33",
   "metadata": {},
   "source": [
    "print(\"this is the second line of code, idk if i can do a smiley face, lets try :)\")\n",
    "\n",
    "print(\"i've gained consciousness\")"
   ]
  },
  {
   "cell_type": "code",
   "execution_count": 8,
   "id": "9ffd4eb1",
   "metadata": {},
   "outputs": [],
   "source": [
    "# these are the big words"
   ]
  },
  {
   "cell_type": "code",
   "execution_count": 9,
   "id": "dec57f34",
   "metadata": {},
   "outputs": [
    {
     "name": "stdout",
     "output_type": "stream",
     "text": [
      "# these are the big words\n"
     ]
    }
   ],
   "source": [
    "print(\"# these are the big words\")"
   ]
  },
  {
   "cell_type": "markdown",
   "id": "846a05bb",
   "metadata": {},
   "source": [
    "# jjjjjj"
   ]
  },
  {
   "cell_type": "markdown",
   "id": "c4b8e3d2",
   "metadata": {},
   "source": [
    "# these are large words \n",
    "\n"
   ]
  },
  {
   "cell_type": "markdown",
   "id": "76c6ff1c",
   "metadata": {},
   "source": [
    "#* title"
   ]
  },
  {
   "cell_type": "markdown",
   "id": "bf3635e4",
   "metadata": {},
   "source": [
    "* # Title\n",
    "    * sub title"
   ]
  },
  {
   "cell_type": "code",
   "execution_count": 10,
   "id": "cf313279",
   "metadata": {},
   "outputs": [
    {
     "ename": "SyntaxError",
     "evalue": "unterminated string literal (detected at line 1) (1658340391.py, line 1)",
     "output_type": "error",
     "traceback": [
      "\u001b[0;36m  Cell \u001b[0;32mIn[10], line 1\u001b[0;36m\u001b[0m\n\u001b[0;31m    *** this can't be as hard as tekken combos right? ***\u001b[0m\n\u001b[0m                ^\u001b[0m\n\u001b[0;31mSyntaxError\u001b[0m\u001b[0;31m:\u001b[0m unterminated string literal (detected at line 1)\n"
     ]
    }
   ],
   "source": [
    "*** this can't be as hard as tekken combos right? ***"
   ]
  },
  {
   "cell_type": "code",
   "execution_count": 11,
   "id": "402cad66",
   "metadata": {},
   "outputs": [
    {
     "ename": "SyntaxError",
     "evalue": "invalid syntax (2124817786.py, line 1)",
     "output_type": "error",
     "traceback": [
      "\u001b[0;36m  Cell \u001b[0;32mIn[11], line 1\u001b[0;36m\u001b[0m\n\u001b[0;31m    *** this can ***\u001b[0m\n\u001b[0m    ^\u001b[0m\n\u001b[0;31mSyntaxError\u001b[0m\u001b[0;31m:\u001b[0m invalid syntax\n"
     ]
    }
   ],
   "source": [
    "*** this can ***\n"
   ]
  },
  {
   "cell_type": "code",
   "execution_count": 12,
   "id": "78741b0c",
   "metadata": {},
   "outputs": [
    {
     "ename": "SyntaxError",
     "evalue": "invalid syntax (2263924839.py, line 1)",
     "output_type": "error",
     "traceback": [
      "\u001b[0;36m  Cell \u001b[0;32mIn[12], line 1\u001b[0;36m\u001b[0m\n\u001b[0;31m    * the texting texts sometimes *\u001b[0m\n\u001b[0m          ^\u001b[0m\n\u001b[0;31mSyntaxError\u001b[0m\u001b[0;31m:\u001b[0m invalid syntax\n"
     ]
    }
   ],
   "source": [
    "* the texting texts sometimes *\n"
   ]
  },
  {
   "cell_type": "code",
   "execution_count": 13,
   "id": "31ea9b3c",
   "metadata": {},
   "outputs": [
    {
     "ename": "SyntaxError",
     "evalue": "invalid syntax (2931568592.py, line 1)",
     "output_type": "error",
     "traceback": [
      "\u001b[0;36m  Cell \u001b[0;32mIn[13], line 1\u001b[0;36m\u001b[0m\n\u001b[0;31m    *this stuff might be similar to grinding combos*\u001b[0m\n\u001b[0m          ^\u001b[0m\n\u001b[0;31mSyntaxError\u001b[0m\u001b[0;31m:\u001b[0m invalid syntax\n"
     ]
    }
   ],
   "source": [
    "*this stuff might be similar to grinding combos*\n"
   ]
  },
  {
   "cell_type": "markdown",
   "id": "dee7da9e",
   "metadata": {},
   "source": [
    "*this can't be as hard as grinding out combos in training mode right?*\n"
   ]
  },
  {
   "cell_type": "code",
   "execution_count": 14,
   "id": "f0b71a7b",
   "metadata": {},
   "outputs": [
    {
     "ename": "NameError",
     "evalue": "name 'speaking' is not defined",
     "output_type": "error",
     "traceback": [
      "\u001b[0;31m---------------------------------------------------------------------------\u001b[0m",
      "\u001b[0;31mNameError\u001b[0m                                 Traceback (most recent call last)",
      "Cell \u001b[0;32mIn[14], line 1\u001b[0m\n\u001b[0;32m----> 1\u001b[0m speaking\n",
      "\u001b[0;31mNameError\u001b[0m: name 'speaking' is not defined"
     ]
    }
   ],
   "source": [
    "speaking"
   ]
  },
  {
   "cell_type": "markdown",
   "id": "1975a50e",
   "metadata": {},
   "source": [
    "speaking"
   ]
  },
  {
   "cell_type": "code",
   "execution_count": null,
   "id": "e3794e9c",
   "metadata": {},
   "outputs": [],
   "source": []
  }
 ],
 "metadata": {
  "kernelspec": {
   "display_name": "Python 3 (ipykernel)",
   "language": "python",
   "name": "python3"
  },
  "language_info": {
   "codemirror_mode": {
    "name": "ipython",
    "version": 3
   },
   "file_extension": ".py",
   "mimetype": "text/x-python",
   "name": "python",
   "nbconvert_exporter": "python",
   "pygments_lexer": "ipython3",
   "version": "3.11.4"
  }
 },
 "nbformat": 4,
 "nbformat_minor": 5
}
